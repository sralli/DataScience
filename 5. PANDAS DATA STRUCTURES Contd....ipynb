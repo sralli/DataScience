{
 "cells": [
  {
   "cell_type": "code",
   "execution_count": 12,
   "metadata": {},
   "outputs": [
    {
     "name": "stdout",
     "output_type": "stream",
     "text": [
      "0    banana\n",
      "1    yellow\n",
      "2    orange\n",
      "3        33\n",
      "4      3333\n",
      "5    banana\n",
      "dtype: object\n"
     ]
    }
   ],
   "source": [
    "# Creating a series\n",
    "\n",
    "import pandas as pd\n",
    "\n",
    "\n",
    "\n",
    "s = pd.Series(['banana', 'yellow','orange',33,3333,'banana'])\n",
    "\n",
    "\n",
    "print(s)"
   ]
  },
  {
   "cell_type": "code",
   "execution_count": 16,
   "metadata": {},
   "outputs": [
    {
     "name": "stdout",
     "output_type": "stream",
     "text": [
      "Person         Wes McKinney\n",
      "Who       Creator of Pandas\n",
      "DOB                20071987\n",
      "dtype: object\n"
     ]
    }
   ],
   "source": [
    "# manually assign index values to a series\n",
    "\n",
    "# by passing a Python list\n",
    "\n",
    "s = pd.Series(['Wes McKinney', 'Creator of Pandas',20071987],\n",
    "\n",
    "              index=['Person', 'Who','DOB'])\n",
    "print(s)"
   ]
  },
  {
   "cell_type": "code",
   "execution_count": 17,
   "metadata": {},
   "outputs": [
    {
     "name": "stdout",
     "output_type": "stream",
     "text": [
      "                Name    Occupation        Born        Died  Age\n",
      "0  Rosaline Franklin       Chemist  1920-07-25  1958-04-16   37\n",
      "1     William Gosset  Statistician  1876-06-13  1937-10-16   61\n"
     ]
    }
   ],
   "source": [
    "scientists = pd.DataFrame({\n",
    "\n",
    "    'Name': ['Rosaline Franklin', 'William Gosset'],\n",
    "\n",
    "    'Occupation': ['Chemist', 'Statistician'],\n",
    "\n",
    "    'Born': ['1920-07-25', '1876-06-13'],\n",
    "\n",
    "    'Died': ['1958-04-16', '1937-10-16'],\n",
    "\n",
    "    'Age': [37, 61]})\n",
    "\n",
    "print(scientists)"
   ]
  },
  {
   "cell_type": "code",
   "execution_count": 18,
   "metadata": {},
   "outputs": [
    {
     "name": "stdout",
     "output_type": "stream",
     "text": [
      "                     Occupation        Born        Died  Age\n",
      "Rosaline Franklin       Chemist  1920-07-25  1958-04-16   37\n",
      "William Gosset     Statistician  1876-06-13  1937-10-16   61\n"
     ]
    }
   ],
   "source": [
    "scientists = pd.DataFrame(\n",
    "\n",
    "    data={'Occupation': ['Chemist', 'Statistician'],\n",
    "\n",
    "          'Born': ['1920-07-25', '1876-06-13'],\n",
    "\n",
    "          'Died': ['1958-04-16', '1937-10-16'],\n",
    "\n",
    "    'Age': [37, 61]},\n",
    "\n",
    "    index=['Rosaline Franklin', 'William Gosset'],\n",
    "\n",
    "    columns=['Occupation', 'Born', 'Died', 'Age'])\n",
    "\n",
    "print(scientists)"
   ]
  },
  {
   "cell_type": "code",
   "execution_count": 19,
   "metadata": {},
   "outputs": [
    {
     "data": {
      "text/html": [
       "<div>\n",
       "<style scoped>\n",
       "    .dataframe tbody tr th:only-of-type {\n",
       "        vertical-align: middle;\n",
       "    }\n",
       "\n",
       "    .dataframe tbody tr th {\n",
       "        vertical-align: top;\n",
       "    }\n",
       "\n",
       "    .dataframe thead th {\n",
       "        text-align: right;\n",
       "    }\n",
       "</style>\n",
       "<table border=\"1\" class=\"dataframe\">\n",
       "  <thead>\n",
       "    <tr style=\"text-align: right;\">\n",
       "      <th></th>\n",
       "      <th>Country</th>\n",
       "      <th>Year</th>\n",
       "      <th>life</th>\n",
       "      <th>population</th>\n",
       "      <th>income</th>\n",
       "      <th>region</th>\n",
       "    </tr>\n",
       "  </thead>\n",
       "  <tbody>\n",
       "    <tr>\n",
       "      <th>0</th>\n",
       "      <td>Afghanistan</td>\n",
       "      <td>1800.0</td>\n",
       "      <td>28.211000</td>\n",
       "      <td>3280000</td>\n",
       "      <td>603.0</td>\n",
       "      <td>South Asia</td>\n",
       "    </tr>\n",
       "    <tr>\n",
       "      <th>1</th>\n",
       "      <td>Afghanistan</td>\n",
       "      <td>1801.0</td>\n",
       "      <td>28.200753</td>\n",
       "      <td>XX</td>\n",
       "      <td>603.0</td>\n",
       "      <td>South Asia</td>\n",
       "    </tr>\n",
       "    <tr>\n",
       "      <th>2</th>\n",
       "      <td># This is a comment</td>\n",
       "      <td>NaN</td>\n",
       "      <td>NaN</td>\n",
       "      <td>NaN</td>\n",
       "      <td>NaN</td>\n",
       "      <td>NaN</td>\n",
       "    </tr>\n",
       "    <tr>\n",
       "      <th>3</th>\n",
       "      <td>Afghanistan</td>\n",
       "      <td>1802.0</td>\n",
       "      <td>28.190507</td>\n",
       "      <td>YY</td>\n",
       "      <td>603.0</td>\n",
       "      <td>South Asia</td>\n",
       "    </tr>\n",
       "    <tr>\n",
       "      <th>4</th>\n",
       "      <td>Afghanistan</td>\n",
       "      <td>1803.0</td>\n",
       "      <td>28.180260</td>\n",
       "      <td>NaN</td>\n",
       "      <td>603.0</td>\n",
       "      <td>South Asia</td>\n",
       "    </tr>\n",
       "  </tbody>\n",
       "</table>\n",
       "</div>"
      ],
      "text/plain": [
       "               Country    Year       life population  income      region\n",
       "0          Afghanistan  1800.0  28.211000    3280000   603.0  South Asia\n",
       "1          Afghanistan  1801.0  28.200753         XX   603.0  South Asia\n",
       "2  # This is a comment     NaN        NaN        NaN     NaN         NaN\n",
       "3          Afghanistan  1802.0  28.190507         YY   603.0  South Asia\n",
       "4          Afghanistan  1803.0  28.180260        NaN   603.0  South Asia"
      ]
     },
     "execution_count": 19,
     "metadata": {},
     "output_type": "execute_result"
    }
   ],
   "source": [
    "# default values\n",
    "df = pd.read_csv(\"gapminder.csv\",skiprows=3)\n",
    "df.head()"
   ]
  },
  {
   "cell_type": "code",
   "execution_count": 23,
   "metadata": {},
   "outputs": [
    {
     "name": "stdout",
     "output_type": "stream",
     "text": [
      "<class 'pandas.core.series.Series'>\n",
      "0    28.211000\n",
      "1    28.200753\n",
      "2          NaN\n",
      "3    28.190507\n",
      "4    28.180260\n",
      "Name: life, dtype: float64\n"
     ]
    }
   ],
   "source": [
    "# Boolean Subsetting: Series\n",
    "life = df['life']\n",
    "print(type(life))\n",
    "print(life.head())"
   ]
  },
  {
   "cell_type": "code",
   "execution_count": 25,
   "metadata": {},
   "outputs": [
    {
     "name": "stdout",
     "output_type": "stream",
     "text": [
      "count    41284.000000\n",
      "mean        42.884766\n",
      "std         16.220812\n",
      "min          1.000000\n",
      "25%         31.000000\n",
      "50%         35.118539\n",
      "75%         55.600000\n",
      "max         84.100000\n",
      "Name: life, dtype: float64\n"
     ]
    }
   ],
   "source": [
    "# get basic stats\n",
    "\n",
    "print(life.describe())"
   ]
  },
  {
   "cell_type": "code",
   "execution_count": 26,
   "metadata": {},
   "outputs": [
    {
     "name": "stdout",
     "output_type": "stream",
     "text": [
      "42.884766038268474\n"
     ]
    }
   ],
   "source": [
    "# get mean\n",
    "\n",
    "print(life.mean())"
   ]
  },
  {
   "cell_type": "code",
   "execution_count": 28,
   "metadata": {},
   "outputs": [
    {
     "name": "stdout",
     "output_type": "stream",
     "text": [
      "174    43.0\n",
      "175    43.5\n",
      "176    44.0\n",
      "177    44.5\n",
      "178    45.0\n",
      "Name: life, dtype: float64\n"
     ]
    }
   ],
   "source": [
    "print(life[life > life.mean()].head())"
   ]
  },
  {
   "cell_type": "code",
   "execution_count": 31,
   "metadata": {},
   "outputs": [
    {
     "name": "stdout",
     "output_type": "stream",
     "text": [
      "0        False\n",
      "1        False\n",
      "2        False\n",
      "3        False\n",
      "4        False\n",
      "5        False\n",
      "6        False\n",
      "7        False\n",
      "8        False\n",
      "9        False\n",
      "10       False\n",
      "11       False\n",
      "12       False\n",
      "13       False\n",
      "14       False\n",
      "15       False\n",
      "16       False\n",
      "17       False\n",
      "18       False\n",
      "19       False\n",
      "20       False\n",
      "21       False\n",
      "22       False\n",
      "23       False\n",
      "24       False\n",
      "25       False\n",
      "26       False\n",
      "27       False\n",
      "28       False\n",
      "29       False\n",
      "         ...  \n",
      "41255     True\n",
      "41256     True\n",
      "41257     True\n",
      "41258     True\n",
      "41259     True\n",
      "41260     True\n",
      "41261     True\n",
      "41262     True\n",
      "41263     True\n",
      "41264     True\n",
      "41265     True\n",
      "41266     True\n",
      "41267     True\n",
      "41268     True\n",
      "41269     True\n",
      "41270     True\n",
      "41271     True\n",
      "41272     True\n",
      "41273     True\n",
      "41274     True\n",
      "41275     True\n",
      "41276     True\n",
      "41277     True\n",
      "41278     True\n",
      "41279     True\n",
      "41280     True\n",
      "41281     True\n",
      "41282     True\n",
      "41283     True\n",
      "41284     True\n",
      "Name: life, Length: 41285, dtype: bool\n"
     ]
    }
   ],
   "source": [
    "print(life>life.mean())"
   ]
  },
  {
   "cell_type": "code",
   "execution_count": 32,
   "metadata": {},
   "outputs": [
    {
     "name": "stdout",
     "output_type": "stream",
     "text": [
      "<class 'pandas.core.series.Series'>\n"
     ]
    }
   ],
   "source": [
    "print(type(life > life.mean()))"
   ]
  },
  {
   "cell_type": "code",
   "execution_count": 35,
   "metadata": {},
   "outputs": [
    {
     "name": "stdout",
     "output_type": "stream",
     "text": [
      "0         56.422000\n",
      "1         56.401507\n",
      "2               NaN\n",
      "3         56.381013\n",
      "4         56.360520\n",
      "5         56.340027\n",
      "6         56.319533\n",
      "7         56.299040\n",
      "8         56.278547\n",
      "9         56.258053\n",
      "10        56.237560\n",
      "11        56.217067\n",
      "12        56.196573\n",
      "13        56.176080\n",
      "14        56.155587\n",
      "15        56.135093\n",
      "16        56.114600\n",
      "17        56.094107\n",
      "18        56.073613\n",
      "19        56.053120\n",
      "20        56.032627\n",
      "21        56.012133\n",
      "22        55.991640\n",
      "23        55.971147\n",
      "24        55.950653\n",
      "25        55.930160\n",
      "26        55.909667\n",
      "27        55.889173\n",
      "28        55.868680\n",
      "29        55.848187\n",
      "            ...    \n",
      "41255    112.400000\n",
      "41256    109.600000\n",
      "41257    107.000000\n",
      "41258    104.400000\n",
      "41259    101.600000\n",
      "41260     99.600000\n",
      "41261     97.800000\n",
      "41262     96.600000\n",
      "41263     95.600000\n",
      "41264     95.400000\n",
      "41265     95.600000\n",
      "41266     96.800000\n",
      "41267     98.000000\n",
      "41268     99.200000\n",
      "41269    100.800000\n",
      "41270    103.800000\n",
      "41271    108.200000\n",
      "41272    112.000000\n",
      "41273    115.940000\n",
      "41274    120.020000\n",
      "41275    157.800000\n",
      "41276    162.000000\n",
      "41277    156.500000\n",
      "41278    160.000000\n",
      "41279    161.660000\n",
      "41280    163.600000\n",
      "41281    161.260000\n",
      "41282    159.760000\n",
      "41283    160.000000\n",
      "41284    160.200000\n",
      "Name: life, Length: 41285, dtype: float64\n"
     ]
    }
   ],
   "source": [
    "# Vectors of the Same Length\n",
    "# If you perform an operation between two vectors of the same length, the resulting vector will be an element-by-element \n",
    "# calculation of the vectors.\n",
    "print(life + life)"
   ]
  },
  {
   "cell_type": "code",
   "execution_count": 38,
   "metadata": {},
   "outputs": [
    {
     "name": "stdout",
     "output_type": "stream",
     "text": [
      "0         795.860521\n",
      "1         795.282488\n",
      "2                NaN\n",
      "3         794.704666\n",
      "4         794.127054\n",
      "5         793.549651\n",
      "6         792.972459\n",
      "7         792.395476\n",
      "8         791.818704\n",
      "9         791.242141\n",
      "10        790.665789\n",
      "11        790.089646\n",
      "12        789.513714\n",
      "13        788.937991\n",
      "14        788.362478\n",
      "15        787.787176\n",
      "16        787.212083\n",
      "17        786.637200\n",
      "18        786.062528\n",
      "19        785.488065\n",
      "20        784.913813\n",
      "21        784.339770\n",
      "22        783.765937\n",
      "23        783.192315\n",
      "24        782.618902\n",
      "25        782.045699\n",
      "26        781.472707\n",
      "27        780.899924\n",
      "28        780.327351\n",
      "29        779.754988\n",
      "            ...     \n",
      "41255    3158.440000\n",
      "41256    3003.040000\n",
      "41257    2862.250000\n",
      "41258    2724.840000\n",
      "41259    2580.640000\n",
      "41260    2480.040000\n",
      "41261    2391.210000\n",
      "41262    2332.890000\n",
      "41263    2284.840000\n",
      "41264    2275.290000\n",
      "41265    2284.840000\n",
      "41266    2342.560000\n",
      "41267    2401.000000\n",
      "41268    2460.160000\n",
      "41269    2540.160000\n",
      "41270    2693.610000\n",
      "41271    2926.810000\n",
      "41272    3136.000000\n",
      "41273    3360.520900\n",
      "41274    3601.200100\n",
      "41275    6225.210000\n",
      "41276    6561.000000\n",
      "41277    6123.062500\n",
      "41278    6400.000000\n",
      "41279    6533.488900\n",
      "41280    6691.240000\n",
      "41281    6501.196900\n",
      "41282    6380.814400\n",
      "41283    6400.000000\n",
      "41284    6416.010000\n",
      "Name: life, Length: 41285, dtype: float64\n"
     ]
    }
   ],
   "source": [
    "print(life * life)\n",
    "#print(life * 2)\n",
    "#print(life + 100)"
   ]
  },
  {
   "cell_type": "code",
   "execution_count": 41,
   "metadata": {},
   "outputs": [
    {
     "name": "stdout",
     "output_type": "stream",
     "text": [
      "41284    80.100000\n",
      "41283    80.000000\n",
      "41282    79.880000\n",
      "41281    80.630000\n",
      "41280    81.800000\n",
      "41279    80.830000\n",
      "41278    80.000000\n",
      "41277    78.250000\n",
      "41276    81.000000\n",
      "41275    78.900000\n",
      "41274    60.010000\n",
      "41273    57.970000\n",
      "41272    56.000000\n",
      "41271    54.100000\n",
      "41270    51.900000\n",
      "41269    50.400000\n",
      "41268    49.600000\n",
      "41267    49.000000\n",
      "41266    48.400000\n",
      "41265    47.800000\n",
      "41264    47.700000\n",
      "41263    47.800000\n",
      "41262    48.300000\n",
      "41261    48.900000\n",
      "41260    49.800000\n",
      "41259    50.800000\n",
      "41258    52.200000\n",
      "41257    53.500000\n",
      "41256    54.800000\n",
      "41255    56.200000\n",
      "           ...    \n",
      "29       27.924093\n",
      "28       27.934340\n",
      "27       27.944587\n",
      "26       27.954833\n",
      "25       27.965080\n",
      "24       27.975327\n",
      "23       27.985573\n",
      "22       27.995820\n",
      "21       28.006067\n",
      "20       28.016313\n",
      "19       28.026560\n",
      "18       28.036807\n",
      "17       28.047053\n",
      "16       28.057300\n",
      "15       28.067547\n",
      "14       28.077793\n",
      "13       28.088040\n",
      "12       28.098287\n",
      "11       28.108533\n",
      "10       28.118780\n",
      "9        28.129027\n",
      "8        28.139273\n",
      "7        28.149520\n",
      "6        28.159767\n",
      "5        28.170013\n",
      "4        28.180260\n",
      "3        28.190507\n",
      "2              NaN\n",
      "1        28.200753\n",
      "0        28.211000\n",
      "Name: life, Length: 41285, dtype: float64\n"
     ]
    }
   ],
   "source": [
    "rev_life = life.sort_index(ascending=False)\n",
    "print(rev_life)"
   ]
  },
  {
   "cell_type": "code",
   "execution_count": 48,
   "metadata": {},
   "outputs": [
    {
     "name": "stdout",
     "output_type": "stream",
     "text": [
      "0         56.422000\n",
      "1         56.401507\n",
      "2               NaN\n",
      "3         56.381013\n",
      "4         56.360520\n",
      "5         56.340027\n",
      "6         56.319533\n",
      "7         56.299040\n",
      "8         56.278547\n",
      "9         56.258053\n",
      "10        56.237560\n",
      "11        56.217067\n",
      "12        56.196573\n",
      "13        56.176080\n",
      "14        56.155587\n",
      "15        56.135093\n",
      "16        56.114600\n",
      "17        56.094107\n",
      "18        56.073613\n",
      "19        56.053120\n",
      "20        56.032627\n",
      "21        56.012133\n",
      "22        55.991640\n",
      "23        55.971147\n",
      "24        55.950653\n",
      "25        55.930160\n",
      "26        55.909667\n",
      "27        55.889173\n",
      "28        55.868680\n",
      "29        55.848187\n",
      "            ...    \n",
      "41255    112.400000\n",
      "41256    109.600000\n",
      "41257    107.000000\n",
      "41258    104.400000\n",
      "41259    101.600000\n",
      "41260     99.600000\n",
      "41261     97.800000\n",
      "41262     96.600000\n",
      "41263     95.600000\n",
      "41264     95.400000\n",
      "41265     95.600000\n",
      "41266     96.800000\n",
      "41267     98.000000\n",
      "41268     99.200000\n",
      "41269    100.800000\n",
      "41270    103.800000\n",
      "41271    108.200000\n",
      "41272    112.000000\n",
      "41273    115.940000\n",
      "41274    120.020000\n",
      "41275    157.800000\n",
      "41276    162.000000\n",
      "41277    156.500000\n",
      "41278    160.000000\n",
      "41279    161.660000\n",
      "41280    163.600000\n",
      "41281    161.260000\n",
      "41282    159.760000\n",
      "41283    160.000000\n",
      "41284    160.200000\n",
      "Name: life, Length: 41285, dtype: float64\n"
     ]
    }
   ],
   "source": [
    "# If we perform an operation using life and rev_life, it will still be conducted on an element-by-element basis, \n",
    "# but the vectors will be aligned first before the operation is carried out.\n",
    "print(life + rev_life)"
   ]
  },
  {
   "cell_type": "code",
   "execution_count": 49,
   "metadata": {},
   "outputs": [
    {
     "name": "stdout",
     "output_type": "stream",
     "text": [
      "                  Occupation        Born        Died  Age\n",
      "William Gosset  Statistician  1876-06-13  1937-10-16   61\n"
     ]
    }
   ],
   "source": [
    "# boolean vectors will subset rows\n",
    "\n",
    "print(scientists[scientists['Age'] > scientists['Age'].mean()])"
   ]
  },
  {
   "cell_type": "markdown",
   "metadata": {},
   "source": [
    "# Syntax\n",
    "\n",
    "Summary\n",
    "\n",
    "Selection Result\n",
    "\n",
    "df[column_name] Single column\n",
    "\n",
    "df[[column1, column2, ... ]] Multiple columns\n",
    "\n",
    "df.loc[row_label] Row by row index label (row name)\n",
    "\n",
    "df.loc[[label1, label2, ...]] Multiple rows by index label\n",
    "\n",
    "df.iloc[row_number] Row by row number\n",
    "\n",
    "df.iloc[[row1, row2, ...]] Multiple rows by row number\n",
    "\n",
    "df.ix[label_or_number] Row by index label or number\n",
    "\n",
    "df.ix[[lab_num1, lab_num2, ...] Multiple rows by index label or number\n",
    "\n",
    "df[bool] Row based on\n",
    "\n",
    "bool df[[bool1, bool2, ...]] Multiple rows based on\n",
    "\n",
    "bool df[start:stop:step] Rows based on slicing notation"
   ]
  },
  {
   "cell_type": "code",
   "execution_count": null,
   "metadata": {},
   "outputs": [],
   "source": []
  }
 ],
 "metadata": {
  "kernelspec": {
   "display_name": "Python 3",
   "language": "python",
   "name": "python3"
  },
  "language_info": {
   "codemirror_mode": {
    "name": "ipython",
    "version": 3
   },
   "file_extension": ".py",
   "mimetype": "text/x-python",
   "name": "python",
   "nbconvert_exporter": "python",
   "pygments_lexer": "ipython3",
   "version": "3.6.6"
  }
 },
 "nbformat": 4,
 "nbformat_minor": 2
}
