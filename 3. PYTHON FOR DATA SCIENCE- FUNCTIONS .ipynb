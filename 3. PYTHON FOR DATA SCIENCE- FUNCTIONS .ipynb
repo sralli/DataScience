{
 "cells": [
  {
   "cell_type": "markdown",
   "metadata": {},
   "source": [
    "# In Python programming, As per our requirement, We can define the User defined functions in multiple ways\n",
    "\n",
    "Function with no argument and no Return value\n",
    "\n",
    "Function with no argument and with Return value\n",
    "\n",
    "Function with argument and No Return value\n",
    "\n",
    "Function with argument and Return value\n",
    "\n",
    "Default Arguments"
   ]
  },
  {
   "cell_type": "code",
   "execution_count": 1,
   "metadata": {},
   "outputs": [
    {
     "name": "stdout",
     "output_type": "stream",
     "text": [
      "After Calling the Function: 50\n"
     ]
    }
   ],
   "source": [
    "# Python Function with No Arguments, and No Return Value\n",
    "def Adding():\n",
    "    a = 20\n",
    "    b = 30\n",
    "    Sum = a + b\n",
    "    print(\"After Calling the Function:\", Sum)\n",
    "    \n",
    "    \n",
    "Adding()"
   ]
  },
  {
   "cell_type": "code",
   "execution_count": 4,
   "metadata": {},
   "outputs": [
    {
     "name": "stdout",
     "output_type": "stream",
     "text": [
      "After Calling the Multiplication Function:  250\n",
      "Result is :  250\n"
     ]
    }
   ],
   "source": [
    "# Python Function with No Arguments, and with Return Value\n",
    "def Multiplication():\n",
    "    a = 10\n",
    "    b = 25\n",
    "    Multi = a * b\n",
    "    return Multi\n",
    "print(\"After Calling the Multiplication Function: \", Multiplication()) # we can call directly\n",
    "val = Multiplication() # or we can assign to a variable and use it\n",
    "print(\"Result is : \",val)"
   ]
  },
  {
   "cell_type": "code",
   "execution_count": 9,
   "metadata": {},
   "outputs": [
    {
     "name": "stdout",
     "output_type": "stream",
     "text": [
      "After Calling the Function: 200\n"
     ]
    }
   ],
   "source": [
    "# Python Function with Arguments, and NO Return Value\n",
    "def Multiplications(a, b):\n",
    "    Multi = a * b\n",
    "    print(\"After Calling the Function:\", Multi)\n",
    " \n",
    "Multiplications(10, 20)  "
   ]
  },
  {
   "cell_type": "code",
   "execution_count": 11,
   "metadata": {},
   "outputs": [
    {
     "name": "stdout",
     "output_type": "stream",
     "text": [
      "Result is : 200\n"
     ]
    }
   ],
   "source": [
    "# Python Function with Arguments, and with Return Value\n",
    "def Multiplications(a, b):\n",
    "    Multi = a * b\n",
    "    return Multi\n",
    " \n",
    "res = Multiplications(10, 20) \n",
    "print(\"Result is :\",res)"
   ]
  },
  {
   "cell_type": "code",
   "execution_count": 17,
   "metadata": {},
   "outputs": [
    {
     "name": "stdout",
     "output_type": "stream",
     "text": [
      "10 3\n"
     ]
    }
   ],
   "source": [
    "# Python function with default arguments\n",
    "\n",
    "def DefaultArgumentFunction(a , b =3):\n",
    "    print(a, b)\n",
    "\n",
    "DefaultArgumentFunction(10)\n",
    "# Default argument should be always last"
   ]
  },
  {
   "cell_type": "code",
   "execution_count": 19,
   "metadata": {},
   "outputs": [
    {
     "ename": "SyntaxError",
     "evalue": "non-default argument follows default argument (<ipython-input-19-c0890d1f429f>, line 1)",
     "output_type": "error",
     "traceback": [
      "\u001b[1;36m  File \u001b[1;32m\"<ipython-input-19-c0890d1f429f>\"\u001b[1;36m, line \u001b[1;32m1\u001b[0m\n\u001b[1;33m    def DefaultArgumentFunction(a =3 , b):\u001b[0m\n\u001b[1;37m                               ^\u001b[0m\n\u001b[1;31mSyntaxError\u001b[0m\u001b[1;31m:\u001b[0m non-default argument follows default argument\n"
     ]
    }
   ],
   "source": [
    "def DefaultArgumentFunction(a =3 , b):\n",
    "    print(a, b)\n",
    "\n",
    "DefaultArgumentFunction(10)\n"
   ]
  },
  {
   "cell_type": "code",
   "execution_count": 21,
   "metadata": {},
   "outputs": [
    {
     "name": "stdout",
     "output_type": "stream",
     "text": [
      "['Tom', 'dick', 'harry']\n"
     ]
    }
   ],
   "source": [
    "def getNames(*names):\n",
    "    for i in names:\n",
    "        print(i)\n",
    "\n",
    "getNames([\"Tom\",\"dick\",\"harry\"])"
   ]
  },
  {
   "cell_type": "code",
   "execution_count": 22,
   "metadata": {},
   "outputs": [
    {
     "name": "stdout",
     "output_type": "stream",
     "text": [
      "The factorial of 4 is 24\n"
     ]
    }
   ],
   "source": [
    "# Recursive functions\n",
    "# There should be always a breaking point or else it will end up in a loop\n",
    "def calc_factorial(x):\n",
    "    \"\"\"This is a recursive function\n",
    "    to find the factorial of an integer\"\"\"\n",
    "\n",
    "    if x == 1:\n",
    "        return 1\n",
    "    else:\n",
    "        return (x * calc_factorial(x-1))\n",
    "\n",
    "num = 4\n",
    "print(\"The factorial of\", num, \"is\", calc_factorial(num))"
   ]
  },
  {
   "cell_type": "markdown",
   "metadata": {},
   "source": [
    "# lambda operator\n",
    "lambda operator or lambda function is used for creating small, one-time and anonymous function objects in Python.\n",
    "\n",
    "lambda arguments : expression"
   ]
  },
  {
   "cell_type": "code",
   "execution_count": 23,
   "metadata": {},
   "outputs": [
    {
     "data": {
      "text/plain": [
       "5"
      ]
     },
     "execution_count": 23,
     "metadata": {},
     "output_type": "execute_result"
    }
   ],
   "source": [
    "# lambda functions\n",
    "def add(x, y): \n",
    "    return x + y\n",
    "  \n",
    "# Call the function\n",
    "add(2, 3)  # Output: 5"
   ]
  },
  {
   "cell_type": "code",
   "execution_count": 45,
   "metadata": {},
   "outputs": [
    {
     "name": "stdout",
     "output_type": "stream",
     "text": [
      "8\n"
     ]
    }
   ],
   "source": [
    "add = lambda x, y : x + 2*y\n",
    "print(add(2, 3)) # Output: 5"
   ]
  },
  {
   "cell_type": "code",
   "execution_count": 46,
   "metadata": {},
   "outputs": [
    {
     "data": {
      "text/plain": [
       "function"
      ]
     },
     "execution_count": 46,
     "metadata": {},
     "output_type": "execute_result"
    }
   ],
   "source": [
    "type(add)"
   ]
  },
  {
   "cell_type": "markdown",
   "metadata": {},
   "source": [
    "# map functions\n",
    "map functions expects a function object and any number of iterables like list, dictionary, etc. It executes the function_object for each element in the sequence and returns a list of the elements modified by the function object.\n",
    "\n",
    "map(function_object, iterable1, iterable2,...)"
   ]
  },
  {
   "cell_type": "code",
   "execution_count": 89,
   "metadata": {},
   "outputs": [],
   "source": [
    "def multiply2(x):\n",
    "  return x * 2\n",
    "    \n",
    "res = map(multiply2, [1, 2, 3, 4]) # Output [2, 4, 6, 8]\n",
    "#it returns a map and you have to iterate through it to get the values"
   ]
  },
  {
   "cell_type": "code",
   "execution_count": 90,
   "metadata": {},
   "outputs": [
    {
     "name": "stdout",
     "output_type": "stream",
     "text": [
      "2\n",
      "4\n",
      "6\n",
      "8\n"
     ]
    }
   ],
   "source": [
    "for i in res:\n",
    "    print(i)"
   ]
  },
  {
   "cell_type": "code",
   "execution_count": 84,
   "metadata": {},
   "outputs": [
    {
     "name": "stdout",
     "output_type": "stream",
     "text": [
      "<map object at 0x000001707B90EF60>\n",
      "[1, 4, 9, 16]\n"
     ]
    }
   ],
   "source": [
    "def calculateSquare(n):\n",
    " return n*n\n",
    "\n",
    "numbers = (1, 2, 3, 4)\n",
    "result = map(calculateSquare, numbers)\n",
    "print(result)\n",
    "\n",
    "# converting map object to set\n",
    "numbersSquare = list(result)\n",
    "print(numbersSquare)"
   ]
  },
  {
   "cell_type": "code",
   "execution_count": 85,
   "metadata": {},
   "outputs": [
    {
     "name": "stdout",
     "output_type": "stream",
     "text": [
      "[1, 4, 9, 16]\n"
     ]
    }
   ],
   "source": [
    "print(numbersSquare)"
   ]
  },
  {
   "cell_type": "code",
   "execution_count": 93,
   "metadata": {},
   "outputs": [
    {
     "name": "stdout",
     "output_type": "stream",
     "text": [
      "[2, 4, 6, 8]\n"
     ]
    }
   ],
   "source": [
    "# map and lambda together\n",
    "res = list(map(lambda x :x * 2,[1,2,3,4]))\n",
    "print(res)"
   ]
  },
  {
   "cell_type": "code",
   "execution_count": 94,
   "metadata": {},
   "outputs": [],
   "source": [
    "# using map and lambda on dict\n",
    "dict_a = [{'name': 'python', 'points': 10}, {'name': 'java', 'points': 8}]"
   ]
  },
  {
   "cell_type": "code",
   "execution_count": 98,
   "metadata": {},
   "outputs": [
    {
     "name": "stdout",
     "output_type": "stream",
     "text": [
      "[10, 8]\n"
     ]
    }
   ],
   "source": [
    "res = list(map(lambda x : x[\"points\"], dict_a))\n",
    "print(res)"
   ]
  },
  {
   "cell_type": "code",
   "execution_count": 102,
   "metadata": {},
   "outputs": [
    {
     "name": "stdout",
     "output_type": "stream",
     "text": [
      "[20, 16]\n"
     ]
    }
   ],
   "source": [
    "res = list(map(lambda x : x[\"points\"] * 2,dict_a))\n",
    "print(res)"
   ]
  },
  {
   "cell_type": "code",
   "execution_count": 105,
   "metadata": {},
   "outputs": [
    {
     "name": "stdout",
     "output_type": "stream",
     "text": [
      "[11, 22, 33, 44]\n"
     ]
    }
   ],
   "source": [
    "# passing multiple list to map\n",
    "\n",
    "list_a = [1,2,3,4]\n",
    "list_b = [10,20,30,40]\n",
    "\n",
    "res = list(map(lambda x,y:x + y,list_a,list_b))\n",
    "print(res)"
   ]
  },
  {
   "cell_type": "markdown",
   "metadata": {},
   "source": [
    "# filter function\n",
    "filter function expects two arguments, function_object and an iterable. function_object returns a boolean value. function_object is called for each element of the iterable and filter returns only those element for which the function_object returns true."
   ]
  },
  {
   "cell_type": "code",
   "execution_count": 106,
   "metadata": {},
   "outputs": [
    {
     "name": "stdout",
     "output_type": "stream",
     "text": [
      "[2, 4]\n"
     ]
    }
   ],
   "source": [
    "list_a = [1, 2, 3, 4, 5]\n",
    "\n",
    "res = filter(lambda x : x % 2 == 0,list_a)\n",
    "print(list(res))"
   ]
  },
  {
   "cell_type": "markdown",
   "metadata": {},
   "source": [
    "# List comprehension in Python\n",
    "List comprehensions are used for creating new list from another iterables.\n",
    "\n",
    "As list comprehension returns list, they consists of brackets containing the expression which needs to be executed for each element along with the for loop to iterate over each element.\n",
    "\n",
    "new_list = [expression for_loop_one_or_more condtions]"
   ]
  },
  {
   "cell_type": "code",
   "execution_count": 107,
   "metadata": {},
   "outputs": [
    {
     "name": "stdout",
     "output_type": "stream",
     "text": [
      "[1, 4, 9, 16]\n"
     ]
    }
   ],
   "source": [
    "# traditional way of doing it\n",
    "numbers = [1, 2, 3, 4]\n",
    "squares = []\n",
    "\n",
    "for n in numbers:\n",
    "  squares.append(n**2)\n",
    "\n",
    "print(squares)  # Output: [1, 4, 9, 16]"
   ]
  },
  {
   "cell_type": "code",
   "execution_count": 109,
   "metadata": {},
   "outputs": [
    {
     "name": "stdout",
     "output_type": "stream",
     "text": [
      "[1, 4, 9, 16]\n"
     ]
    }
   ],
   "source": [
    "# list comprehension\n",
    "numbers = [1, 2, 3, 4]\n",
    "\n",
    "squares = [n ** 2 for n in numbers]\n",
    "\n",
    "print(squares)  # Output: [1, 4, 9, 16]"
   ]
  },
  {
   "cell_type": "code",
   "execution_count": 110,
   "metadata": {},
   "outputs": [
    {
     "name": "stdout",
     "output_type": "stream",
     "text": [
      "[2, 3, 4]\n"
     ]
    }
   ],
   "source": [
    "# finding common numbers in two lists\n",
    "# traditional way\n",
    "\n",
    "list_a = [1, 2, 3, 4]\n",
    "list_b = [2, 3, 4, 5]\n",
    "\n",
    "common_num = []\n",
    "\n",
    "for a in list_a:\n",
    "  for b in list_b:\n",
    "    if a == b:\n",
    "      common_num.append(a)\n",
    "      \n",
    "print(common_num)  # Output [2, 3, 4]"
   ]
  },
  {
   "cell_type": "code",
   "execution_count": 112,
   "metadata": {},
   "outputs": [
    {
     "name": "stdout",
     "output_type": "stream",
     "text": [
      "[2, 3, 4]\n"
     ]
    }
   ],
   "source": [
    "res = [a for a in list_a for b in list_b if a == b]\n",
    "print(res)"
   ]
  },
  {
   "cell_type": "code",
   "execution_count": 121,
   "metadata": {},
   "outputs": [],
   "source": [
    "# Return numbers from the list which are not equal as tuple:\n",
    "\n",
    "list_a = [1, 2, 3, 4]\n",
    "list_b = [2, 3]\n",
    "\n",
    "res  = [(a,b) for a in list_a for b in list_b if a != b]"
   ]
  },
  {
   "cell_type": "code",
   "execution_count": 122,
   "metadata": {},
   "outputs": [
    {
     "name": "stdout",
     "output_type": "stream",
     "text": [
      "[(1, 2), (1, 3), (2, 3), (3, 2), (4, 2), (4, 3)]\n"
     ]
    }
   ],
   "source": [
    "print(res)"
   ]
  },
  {
   "cell_type": "code",
   "execution_count": 128,
   "metadata": {},
   "outputs": [
    {
     "name": "stdout",
     "output_type": "stream",
     "text": [
      "['Hello', 'World', 'In', 'Python']\n",
      "['hello', 'world', 'in', 'python']\n"
     ]
    }
   ],
   "source": [
    "# List comprehensions can also be used to iterate over strings as shown below:\n",
    "list_a = [\"Hello\", \"World\", \"In\", \"Python\"]\n",
    "\n",
    "res = [a for a in list_a]\n",
    "print(res)\n",
    "res = [a.lower() for a in list_a ]\n",
    "print(res)"
   ]
  },
  {
   "cell_type": "markdown",
   "metadata": {},
   "source": [
    "# Zip in Python\n",
    "zip takes n number of iterables and returns list of tuples. ith element of the tuple is created using the ith element from each of the iterables."
   ]
  },
  {
   "cell_type": "code",
   "execution_count": 132,
   "metadata": {},
   "outputs": [
    {
     "name": "stdout",
     "output_type": "stream",
     "text": [
      "<class 'zip'>\n",
      "(1, 'a')\n",
      "(2, 'b')\n",
      "(3, 'c')\n",
      "(4, 'd')\n",
      "(5, 'e')\n"
     ]
    }
   ],
   "source": [
    "# ziping two lists of equal length\n",
    "list_a = [1, 2, 3, 4, 5]\n",
    "list_b = ['a', 'b', 'c', 'd', 'e']\n",
    "\n",
    "zipped_list = zip(list_a, list_b)\n",
    "\n",
    "print(type(zipped_list)) # [(1, 'a'), (2, 'b'), (3, 'c'), (4, 'd'), (5, 'e')]\n",
    "for i in zipped_list:\n",
    "    print(i)"
   ]
  },
  {
   "cell_type": "code",
   "execution_count": 135,
   "metadata": {},
   "outputs": [
    {
     "name": "stdout",
     "output_type": "stream",
     "text": [
      "(1, 'a')\n",
      "(2, 'b')\n",
      "(3, 'c')\n"
     ]
    }
   ],
   "source": [
    "# zipping tow lists of unequal length\n",
    "\n",
    "list_a = [1, 2, 3]\n",
    "list_b = ['a', 'b', 'c', 'd', 'e']\n",
    "\n",
    "zipped_list = zip(list_a, list_b)\n",
    "\n",
    "for i in zipped_list: # [(1, 'a'), (2, 'b'), (3, 'c')]\n",
    "    print(i)"
   ]
  },
  {
   "cell_type": "markdown",
   "metadata": {},
   "source": [
    "# Unzip a list of tuples\n",
    "\n",
    "To unzip a list of tuples we zip(*listP_of_tuples). Unzip creates separate tuple(check...?)"
   ]
  },
  {
   "cell_type": "code",
   "execution_count": 137,
   "metadata": {},
   "outputs": [
    {
     "name": "stdout",
     "output_type": "stream",
     "text": [
      "(1, 2, 3)\n",
      "('a', 'b', 'c')\n",
      "<class 'tuple'>\n"
     ]
    }
   ],
   "source": [
    "zipper_list = [(1, 'a'), (2, 'b'), (3, 'c')]\n",
    " \n",
    "list_a, list_b = zip(*zipper_list)\n",
    "print(list_a) # (1, 2, 3)\n",
    "print(list_b) # ('a', 'b', 'c')\n",
    "print(type(list_a))"
   ]
  },
  {
   "cell_type": "markdown",
   "metadata": {},
   "source": [
    "# Modules\n",
    "To create a module just save the code you want in a file with the file extension .py:"
   ]
  },
  {
   "cell_type": "code",
   "execution_count": 139,
   "metadata": {},
   "outputs": [
    {
     "ename": "NameError",
     "evalue": "name 'greeting' is not defined",
     "output_type": "error",
     "traceback": [
      "\u001b[1;31m---------------------------------------------------------------------------\u001b[0m",
      "\u001b[1;31mNameError\u001b[0m                                 Traceback (most recent call last)",
      "\u001b[1;32m<ipython-input-139-41d8e5bf6e8c>\u001b[0m in \u001b[0;36m<module>\u001b[1;34m()\u001b[0m\n\u001b[0;32m      1\u001b[0m \u001b[1;32mimport\u001b[0m \u001b[0mmymodule\u001b[0m\u001b[1;33m\u001b[0m\u001b[0m\n\u001b[0;32m      2\u001b[0m \u001b[1;33m\u001b[0m\u001b[0m\n\u001b[1;32m----> 3\u001b[1;33m \u001b[0mgreeting\u001b[0m\u001b[1;33m(\u001b[0m\u001b[1;34m\"waseem\"\u001b[0m\u001b[1;33m)\u001b[0m\u001b[1;33m\u001b[0m\u001b[0m\n\u001b[0m",
      "\u001b[1;31mNameError\u001b[0m: name 'greeting' is not defined"
     ]
    }
   ],
   "source": [
    "import mymodule\n",
    "\n",
    "greeting(\"waseem\") #try calling directly"
   ]
  },
  {
   "cell_type": "code",
   "execution_count": 141,
   "metadata": {},
   "outputs": [
    {
     "name": "stdout",
     "output_type": "stream",
     "text": [
      "Hello, waseem\n"
     ]
    }
   ],
   "source": [
    "mymodule.greeting(\"waseem\") # always call using the modules name"
   ]
  },
  {
   "cell_type": "code",
   "execution_count": 146,
   "metadata": {},
   "outputs": [
    {
     "ename": "ImportError",
     "evalue": "cannot import name 'person1'",
     "output_type": "error",
     "traceback": [
      "\u001b[1;31m---------------------------------------------------------------------------\u001b[0m",
      "\u001b[1;31mImportError\u001b[0m                               Traceback (most recent call last)",
      "\u001b[1;32m<ipython-input-146-3baf3cd78533>\u001b[0m in \u001b[0;36m<module>\u001b[1;34m()\u001b[0m\n\u001b[1;32m----> 1\u001b[1;33m \u001b[1;32mfrom\u001b[0m  \u001b[0mmymodule\u001b[0m \u001b[1;32mimport\u001b[0m \u001b[0mperson1\u001b[0m\u001b[1;33m\u001b[0m\u001b[0m\n\u001b[0m\u001b[0;32m      2\u001b[0m \u001b[0ma\u001b[0m \u001b[1;33m=\u001b[0m \u001b[0mmymodule\u001b[0m\u001b[1;33m.\u001b[0m\u001b[0mperson1\u001b[0m\u001b[1;33m[\u001b[0m\u001b[1;34m\"age\"\u001b[0m\u001b[1;33m]\u001b[0m\u001b[1;33m\u001b[0m\u001b[0m\n",
      "\u001b[1;31mImportError\u001b[0m: cannot import name 'person1'"
     ]
    }
   ],
   "source": [
    "from  mymodule import person1\n",
    "a = mymodule.person1[\"age\"]"
   ]
  },
  {
   "cell_type": "markdown",
   "metadata": {},
   "source": [
    "# A package is basically a directory with Python files and a file with the name __init__.py. This means that every directory inside of the Python path, which contains a file named __init__.py, will be treated as a package by Python. It's possible to put several modules into a Package. \n",
    "\n",
    "Packages are a way of structuring Python’s module namespace by using \"dotted module names\". A.B stands for a submodule named B in a package named A. Two different packages like P1 and P2 can both have modules with the same name, let's say A, for example. The submodule A of the package P1 and the submodule A of the package P2 can be totally different. \n",
    "A package is imported like a \"normal\" module. \n",
    "We will start this chapter with a simple example. "
   ]
  },
  {
   "cell_type": "markdown",
   "metadata": {},
   "source": [
    "# We will demonstrate with a very simple example how to create a package with some Python modules. \n",
    "First of all, we need a directory. The name of this directory will be the name of the package, which we want to create. We will call our package \"simple_package\". This directory needs to contain a file with the name \"__init__.py\". This file can be empty, or it can contain valid Python code. This code will be executed when a package will be imported, so it can be used to initialize a package, e.g. to make sure that some other modules are imported or some values set. Now we can put into this directory all the Python files which will be the submodules of our module. \n",
    "We create two simple files a.py and b.py just for the sake of filling the package with modules. \n",
    "\n",
    "The content of a.py:\n",
    "\n",
    "def bar():\n",
    "\n",
    "    print(\"Hello, function 'bar' from module 'a' calling\")\n",
    "\n",
    "The content of b.py:\n",
    "\n",
    "def foo():\n",
    "\n",
    "    print(\"Hello, function 'foo' from module 'b' calling\")\n",
    "    \n",
    "Both files in packages folder."
   ]
  },
  {
   "cell_type": "markdown",
   "metadata": {},
   "source": [
    "# We will also add an empty file with the name __init__.py inside of simple_package directory. \n",
    "\n",
    "Let's see whats happening, when we import simple_package from the interactive Python shell, assuming that the directory simple_package is either in the directory from which you call the shell or that it is contained in the search path or environment variable \"PYTHONPATH\" (from your operating system)"
   ]
  },
  {
   "cell_type": "code",
   "execution_count": 2,
   "metadata": {},
   "outputs": [],
   "source": [
    "# folder name\n",
    "import packages"
   ]
  },
  {
   "cell_type": "code",
   "execution_count": 3,
   "metadata": {},
   "outputs": [
    {
     "data": {
      "text/plain": [
       "<module 'packages' from 'C:\\\\Users\\\\babas\\\\Desktop\\\\DATA\\\\DEV\\\\Python\\\\Python_Content\\\\packages\\\\__init__.py'>"
      ]
     },
     "execution_count": 3,
     "metadata": {},
     "output_type": "execute_result"
    }
   ],
   "source": [
    "packages"
   ]
  },
  {
   "cell_type": "code",
   "execution_count": 4,
   "metadata": {},
   "outputs": [
    {
     "ename": "NameError",
     "evalue": "name 'simple_package' is not defined",
     "output_type": "error",
     "traceback": [
      "\u001b[1;31m---------------------------------------------------------------------------\u001b[0m",
      "\u001b[1;31mNameError\u001b[0m                                 Traceback (most recent call last)",
      "\u001b[1;32m<ipython-input-4-347df8a711cc>\u001b[0m in \u001b[0;36m<module>\u001b[1;34m()\u001b[0m\n\u001b[1;32m----> 1\u001b[1;33m \u001b[0msimple_package\u001b[0m\u001b[1;33m/\u001b[0m\u001b[0ma\u001b[0m\u001b[1;33m\u001b[0m\u001b[0m\n\u001b[0m",
      "\u001b[1;31mNameError\u001b[0m: name 'simple_package' is not defined"
     ]
    }
   ],
   "source": [
    "simple_package/a"
   ]
  },
  {
   "cell_type": "code",
   "execution_count": 5,
   "metadata": {},
   "outputs": [],
   "source": [
    "from packages import a, b"
   ]
  },
  {
   "cell_type": "code",
   "execution_count": 6,
   "metadata": {},
   "outputs": [
    {
     "name": "stdout",
     "output_type": "stream",
     "text": [
      "Hello, function 'bar' from module 'a' calling\n"
     ]
    }
   ],
   "source": [
    "a.bar()"
   ]
  },
  {
   "cell_type": "code",
   "execution_count": 7,
   "metadata": {},
   "outputs": [
    {
     "name": "stdout",
     "output_type": "stream",
     "text": [
      "Hello, function 'foo' from module 'b' calling\n"
     ]
    }
   ],
   "source": [
    "b.foo()"
   ]
  },
  {
   "cell_type": "markdown",
   "metadata": {},
   "source": [
    "# File Handling\n",
    "The key function for working with files in Python is the open() function.\n",
    "\n",
    "The open() function takes two parameters; filename, and mode.\n",
    "\n",
    "There are four different methods (modes) for opening a file:\n",
    "\n",
    "\"r\" - Read - Default value. Opens a file for reading, error if the file does not exist\n",
    "\n",
    "\"a\" - Append - Opens a file for appending, creates the file if it does not exist\n",
    "\n",
    "\"w\" - Write - Opens a file for writing, creates the file if it does not exist\n",
    "\n",
    "\"x\" - Create - Creates the specified file, returns an error if the file exists\n",
    "\n",
    "In addition you can specify if the file should be handled as binary or text mode\n",
    "\n",
    "\"t\" - Text - Default value. Text mode\n",
    "\n",
    "\"b\" - Binary - Binary mode (e.g. images)"
   ]
  },
  {
   "cell_type": "code",
   "execution_count": 14,
   "metadata": {},
   "outputs": [],
   "source": [
    "#To open a file for reading it is enough to specify the name of the file:\n",
    "\n",
    "#f = open(\"ReadFile.txt\")\n",
    "# or\n",
    "f = open(\"ReadFile.txt\", \"rt\")"
   ]
  },
  {
   "cell_type": "code",
   "execution_count": 17,
   "metadata": {},
   "outputs": [
    {
     "name": "stdout",
     "output_type": "stream",
     "text": [
      "\n"
     ]
    }
   ],
   "source": [
    "print(f.read())\n",
    "f.close()"
   ]
  },
  {
   "cell_type": "code",
   "execution_count": 22,
   "metadata": {},
   "outputs": [
    {
     "name": "stdout",
     "output_type": "stream",
     "text": [
      "Hi, h\n"
     ]
    }
   ],
   "source": [
    "f = open(\"ReadFile.txt\", \"rt\")\n",
    "# read only first 5 characters\n",
    "print(f.read(5))"
   ]
  },
  {
   "cell_type": "code",
   "execution_count": 23,
   "metadata": {},
   "outputs": [
    {
     "name": "stdout",
     "output_type": "stream",
     "text": [
      "ello how are you\n",
      "I am fine\n",
      "what about you\n",
      "Can we meet tommorrow\n",
      "No I am busy..!\n"
     ]
    }
   ],
   "source": [
    "# it will print all the contents after 5th word till the end\n",
    "print(f.read())\n",
    "f.close()"
   ]
  },
  {
   "cell_type": "code",
   "execution_count": 34,
   "metadata": {},
   "outputs": [
    {
     "name": "stdout",
     "output_type": "stream",
     "text": [
      "Hi, hello how are you - First line\n",
      "\n"
     ]
    }
   ],
   "source": [
    "f = open(\"ReadFile.txt\", \"rt\")\n",
    "# print the first line\n",
    "print(f.readline())"
   ]
  },
  {
   "cell_type": "code",
   "execution_count": 35,
   "metadata": {},
   "outputs": [
    {
     "name": "stdout",
     "output_type": "stream",
     "text": [
      "I am fine - Second line\n",
      "\n"
     ]
    }
   ],
   "source": [
    "print(f.readline())\n",
    "f.close() # always remember to do it"
   ]
  },
  {
   "cell_type": "code",
   "execution_count": 44,
   "metadata": {},
   "outputs": [
    {
     "name": "stdout",
     "output_type": "stream",
     "text": [
      "Hi, hello how are you - First line\n",
      "\n",
      "I am fine - Second line\n",
      "\n",
      "what about you - Third line\n",
      "\n",
      "Can we meet tommorrow - fourth line\n",
      "\n",
      "No I am busy..! - fifth line\n",
      "\n"
     ]
    }
   ],
   "source": [
    "# we can use loop to print line by line\n",
    "\n",
    "f = open(\"ReadFile.txt\", \"rt\")\n",
    "for x in f:\n",
    "    print(x)\n",
    "f.close()"
   ]
  },
  {
   "cell_type": "code",
   "execution_count": 45,
   "metadata": {},
   "outputs": [],
   "source": [
    "# Appending to the file\n",
    "f = open(\"ReadFile.txt\", \"a\")\n",
    "f.write(\"Now the file has one more line! - Sixth line\")\n",
    "f.close()"
   ]
  },
  {
   "cell_type": "code",
   "execution_count": 46,
   "metadata": {},
   "outputs": [
    {
     "name": "stdout",
     "output_type": "stream",
     "text": [
      "Hi, hello how are you - First line\n",
      "\n",
      "I am fine - Second line\n",
      "\n",
      "what about you - Third line\n",
      "\n",
      "Can we meet tommorrow - fourth line\n",
      "\n",
      "No I am busy..! - fifth line\n",
      "\n",
      "Now the file has one more line! - Sixth line\n"
     ]
    }
   ],
   "source": [
    "f = open(\"ReadFile.txt\", \"rt\")\n",
    "for x in f:\n",
    "    print(x)\n",
    "f.close()"
   ]
  },
  {
   "cell_type": "markdown",
   "metadata": {},
   "source": [
    "--------------------------\n",
    "f = open(\"myfile.txt\", \"x\")\n",
    "\n",
    "#\"x\" - Create - will create a file, returns an error if the file exist\n",
    "\n",
    "f = open(\"myfile.txt\", \"w\")\n",
    "\n",
    "\"w\" - Write - will create a file if the specified file does not exist"
   ]
  },
  {
   "cell_type": "code",
   "execution_count": 47,
   "metadata": {},
   "outputs": [
    {
     "name": "stdout",
     "output_type": "stream",
     "text": [
      "The file does not exist\n"
     ]
    }
   ],
   "source": [
    "#Check if file exist, then delete it:\n",
    "import os\n",
    "if os.path.exists(\"demofile.txt\"):\n",
    "  os.remove(\"demofile.txt\")\n",
    "else:\n",
    "  print(\"The file does not exist\")"
   ]
  },
  {
   "cell_type": "code",
   "execution_count": 49,
   "metadata": {},
   "outputs": [],
   "source": [
    "# Remove folder itself\n",
    "#os.rmdir(\"myfolder\")\n",
    "# you can remove only empty folders"
   ]
  },
  {
   "cell_type": "code",
   "execution_count": null,
   "metadata": {},
   "outputs": [],
   "source": []
  }
 ],
 "metadata": {
  "kernelspec": {
   "display_name": "Python 3",
   "language": "python",
   "name": "python3"
  },
  "language_info": {
   "codemirror_mode": {
    "name": "ipython",
    "version": 3
   },
   "file_extension": ".py",
   "mimetype": "text/x-python",
   "name": "python",
   "nbconvert_exporter": "python",
   "pygments_lexer": "ipython3",
   "version": "3.6.6"
  }
 },
 "nbformat": 4,
 "nbformat_minor": 2
}
