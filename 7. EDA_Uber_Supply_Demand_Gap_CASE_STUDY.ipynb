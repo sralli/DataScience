{
 "cells": [
  {
   "cell_type": "markdown",
   "metadata": {},
   "source": [
    "# Problem Statement\n",
    "Note: All components of this assignment have to be executed in R/Tableau. Also, note that this is NOT a group case study but an individual assignment.\n",
    "\n",
    " \n",
    "\n",
    "Introduction\n",
    "This data set is a masked data set which is similar to what data analysts at Uber handle. Solving this assignment will give you an idea about how problems are systematically solved using EDA and data visualisation. \n",
    "\n",
    " \n",
    "\n",
    "Business Understanding\n",
    "You may have some experience of travelling to and from the airport. Have you ever used Uber or any other cab service for this travel? Did you at any time face the problem of cancellation by the driver or non-availability of cars?\n",
    "\n",
    " \n",
    "\n",
    "Well, if these are the problems faced by customers, these very issues also impact the business of Uber. If drivers cancel the request of riders or if cars are unavailable, Uber loses out on its revenue. Let’s hear more about such problems that Uber faces during its operations.\n",
    "\n",
    " \n",
    "\n",
    "Play Video\n",
    "As an analyst, you decide to address the problem Uber is facing - driver cancellation and non-availability of cars leading to loss of potential revenue. \n",
    "\n",
    " \n",
    "\n",
    "Business Objectives\n",
    "\n",
    "The aim of analysis is to identify the root cause of the problem (i.e. cancellation and non-availability of cars) and recommend ways to improve the situation. As a result of your analysis, you should be able to present to the client the root cause(s) and possible hypotheses of the problem(s) and recommend ways to improve them.  \n",
    "\n",
    " "
   ]
  },
  {
   "cell_type": "markdown",
   "metadata": {},
   "source": [
    "# There are six attributes associated with each request made by a customer:\n",
    "\n",
    "    1. Request id: A unique identifier of the request\n",
    "    2. Time of request: The date and time at which the customer made the trip request\n",
    "    3. Drop-off time: The drop-off date and time, in case the trip was completed \n",
    "    4. Pick-up point: The point from which the request was made\n",
    "    5. Driver id: The unique identification number of the driver\n",
    "    6. Status of the request: The final status of the trip, that can be either completed, cancelled by the driver or no cars available\n",
    " \n",
    "\n",
    "Note: For this assignment, only the trips to and from the airport are being considered.\n",
    "\n",
    " \n",
    "\n",
    "Data Cleaning and Preparation - Hints\n",
    "\n",
    "Identify the data quality issues and clean the data so that you can use it for analysis.\n",
    "Ensure that the dates and time are in the proper format. Derive new variables which will be useful for analysis."
   ]
  },
  {
   "cell_type": "markdown",
   "metadata": {},
   "source": [
    "# Results Expected\n",
    "\n",
    "Visually identify the most pressing problems for Uber. \n",
    "Hint: Create plots to visualise the frequency of requests that get cancelled or show 'no cars available'; identify the most problematic types of requests (city to airport / airport to city etc.) and the time slots (early mornings, late evenings etc.) using plots\n",
    "Find out the gap between supply and demand and show the same using plots.\n",
    "Find the time slots when the highest gap exists\n",
    "Find the types of requests (city-airport or airport-city) for which the gap is the most severe in the identified time slots\n",
    "What do you think is the reason for this issue for the supply-demand gap? Write the answer in less than 100 words. You may accompany the write-up with plot(s).\n",
    " Recommend some ways to resolve the supply-demand gap.\n",
    " \n",
    "\n",
    "Present the problem, the analyses and the recommendations using plots to the Chief Data Scientist in a well-formatted presentation (make sure to submit a PDF version of the PPT). Also, include a commented R file in your submission apart from the Tableau files for creation of plots.\n",
    "\n",
    " \n",
    "\n",
    "Please refer to the rubric provided on the next page to get a clear idea of what parameters will you be evaluated on."
   ]
  },
  {
   "cell_type": "code",
   "execution_count": 2,
   "metadata": {},
   "outputs": [],
   "source": [
    "# dataset = Uber Request Data.csv in EDA_Resources folder"
   ]
  },
  {
   "cell_type": "code",
   "execution_count": null,
   "metadata": {},
   "outputs": [],
   "source": []
  }
 ],
 "metadata": {
  "kernelspec": {
   "display_name": "Python 3",
   "language": "python",
   "name": "python3"
  },
  "language_info": {
   "codemirror_mode": {
    "name": "ipython",
    "version": 3
   },
   "file_extension": ".py",
   "mimetype": "text/x-python",
   "name": "python",
   "nbconvert_exporter": "python",
   "pygments_lexer": "ipython3",
   "version": "3.6.5"
  }
 },
 "nbformat": 4,
 "nbformat_minor": 2
}
